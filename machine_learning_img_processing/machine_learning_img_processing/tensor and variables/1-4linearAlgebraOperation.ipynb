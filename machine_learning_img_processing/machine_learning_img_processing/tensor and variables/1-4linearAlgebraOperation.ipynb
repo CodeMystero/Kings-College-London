{
 "cells": [
  {
   "cell_type": "code",
   "execution_count": 1,
   "metadata": {},
   "outputs": [
    {
     "name": "stdout",
     "output_type": "stream",
     "text": [
      "WARNING:tensorflow:From c:\\Users\\seung\\AppData\\Local\\Programs\\Python\\Python311\\Lib\\site-packages\\keras\\src\\losses.py:2976: The name tf.losses.sparse_softmax_cross_entropy is deprecated. Please use tf.compat.v1.losses.sparse_softmax_cross_entropy instead.\n",
      "\n"
     ]
    }
   ],
   "source": [
    "import tensorflow as tf"
   ]
  },
  {
   "cell_type": "code",
   "execution_count": 10,
   "metadata": {},
   "outputs": [
    {
     "name": "stdout",
     "output_type": "stream",
     "text": [
      "tf.Tensor(\n",
      "[[ 58  64]\n",
      " [139 154]], shape=(2, 2), dtype=int32)\n",
      "tf.Tensor(\n",
      "[[ 58  64]\n",
      " [139 154]], shape=(2, 2), dtype=int32)\n",
      "tf.Tensor(\n",
      "[[ 50  68]\n",
      " [122 167]], shape=(2, 2), dtype=int32)\n"
     ]
    }
   ],
   "source": [
    "a = tf.constant([1, 2, 3, 4, 5, 6], shape=[2, 3])\n",
    "b = tf.constant([7, 8, 9, 10, 11, 12], shape=[3, 2])\n",
    "\n",
    "c = tf.matmul(a, b)\n",
    "print(c)\n",
    "print(a@b)\n",
    "\n",
    "\n",
    "a = tf.constant([1, 2, 3, 4, 5, 6], shape=[2, 3])\n",
    "b = tf.constant([7, 8, 9, 10, 11, 12], shape=[2, 3])\n",
    "d = tf.linalg.matmul(\n",
    "    a,\n",
    "    b,\n",
    "    transpose_a=False,\n",
    "    transpose_b=True,\n",
    "    adjoint_a=False,\n",
    "    adjoint_b=False,\n",
    "    a_is_sparse=False,\n",
    "    b_is_sparse=False,\n",
    "    output_type=None,\n",
    "    name=None\n",
    ")\n",
    "print(d)\n"
   ]
  },
  {
   "cell_type": "code",
   "execution_count": 16,
   "metadata": {},
   "outputs": [
    {
     "name": "stdout",
     "output_type": "stream",
     "text": [
      "tf.Tensor(\n",
      "[[1 2 3]\n",
      " [4 5 6]], shape=(2, 3), dtype=int32)\n",
      "tf.Tensor(\n",
      "[[1 4]\n",
      " [2 5]\n",
      " [3 6]], shape=(3, 2), dtype=int32)\n",
      "tf.Tensor(\n",
      "[[1 2 3]\n",
      " [4 5 6]], shape=(2, 3), dtype=int32)\n"
     ]
    }
   ],
   "source": [
    "print(a)\n",
    "print(tf.transpose(a))\n",
    "print(a)"
   ]
  },
  {
   "cell_type": "code",
   "execution_count": 18,
   "metadata": {},
   "outputs": [
    {
     "name": "stdout",
     "output_type": "stream",
     "text": [
      "(4, 2, 2)\n",
      "(4, 2, 3)\n",
      "tf.Tensor(\n",
      "[[[  7  22  -9]\n",
      "  [ 16  54 -19]]\n",
      "\n",
      " [[ 12  60  46]\n",
      "  [  1   2   4]]\n",
      "\n",
      " [[ 16 456 100]\n",
      "  [ 14 209  40]]\n",
      "\n",
      " [[ 18 -11  70]\n",
      "  [-34 143 -20]]], shape=(4, 2, 3), dtype=int32)\n"
     ]
    }
   ],
   "source": [
    "a = tf.constant([\n",
    "    [[1,2],[2,5,]],\n",
    "    [[10,2],[1,0]],\n",
    "    [[5,8],[2,7]],\n",
    "    [[2,1],[4,-3]]\n",
    "])\n",
    "\n",
    "b = tf.constant([\n",
    "    [[3,2,-7],[2,10,-1]],\n",
    "    [[1,2,4],[1,20,3]],\n",
    "    [[0,80,20],[2,7,0]],\n",
    "    [[2,11,19],[14,-33,32]]\n",
    "])\n",
    "\n",
    "print(a.shape)\n",
    "print(b.shape)\n",
    "\n",
    "print(a@b)\n"
   ]
  },
  {
   "cell_type": "code",
   "execution_count": 26,
   "metadata": {},
   "outputs": [
    {
     "name": "stdout",
     "output_type": "stream",
     "text": [
      "tf.Tensor(\n",
      "[[1. 1. 1. 1. 1.]\n",
      " [0. 1. 1. 1. 1.]\n",
      " [0. 0. 1. 1. 1.]\n",
      " [0. 0. 0. 1. 1.]\n",
      " [0. 0. 0. 0. 1.]], shape=(5, 5), dtype=float32)\n",
      "tf.Tensor(\n",
      "[[1. 0. 0. 0. 0.]\n",
      " [1. 1. 0. 0. 0.]\n",
      " [1. 1. 1. 0. 0.]\n",
      " [1. 1. 1. 1. 0.]\n",
      " [1. 1. 1. 1. 1.]], shape=(5, 5), dtype=float32)\n",
      "tf.Tensor(\n",
      "[[1. 1. 1. 1. 1.]\n",
      " [1. 1. 1. 1. 1.]\n",
      " [0. 1. 1. 1. 1.]\n",
      " [0. 0. 1. 1. 1.]\n",
      " [0. 0. 0. 1. 1.]], shape=(5, 5), dtype=float32)\n",
      "tf.Tensor(\n",
      "[[1. 1. 1. 1. 0.]\n",
      " [0. 1. 1. 1. 1.]\n",
      " [0. 0. 1. 1. 1.]\n",
      " [0. 0. 0. 1. 1.]\n",
      " [0. 0. 0. 0. 1.]], shape=(5, 5), dtype=float32)\n"
     ]
    }
   ],
   "source": [
    "a = tf.ones([5,5])\n",
    "print(tf.linalg.band_part(a, 0, -1))\n",
    "print(tf.linalg.band_part(a, -1, 0))\n",
    "print(tf.linalg.band_part(a, 1, -1))\n",
    "print(tf.linalg.band_part(a, 0, 3))"
   ]
  },
  {
   "cell_type": "code",
   "execution_count": 30,
   "metadata": {},
   "outputs": [
    {
     "name": "stdout",
     "output_type": "stream",
     "text": [
      "tf.Tensor(\n",
      "[[ 0.04347825  0.18840575  0.4927536 ]\n",
      " [-0.02173913  0.07246377 -0.07971014]\n",
      " [-0.13043478  0.10144926  0.18840578]], shape=(3, 3), dtype=float32)\n"
     ]
    }
   ],
   "source": [
    "a = tf.constant(\n",
    "    [[3,2,-7],[2,10,-1],[1,-4,1]], dtype=tf.float32\n",
    ")\n",
    "print(tf.linalg.inv(a))"
   ]
  },
  {
   "cell_type": "code",
   "execution_count": 31,
   "metadata": {},
   "outputs": [
    {
     "name": "stdout",
     "output_type": "stream",
     "text": [
      "tf.Tensor(14.0, shape=(), dtype=float32)\n"
     ]
    }
   ],
   "source": [
    "a = tf.constant(\n",
    "    [[3,2,-7],[2,10,-1],[1,-4,1]], dtype=tf.float32\n",
    ")\n",
    "print(tf.linalg.trace(a))\n",
    "#sum of diagonal elements"
   ]
  },
  {
   "cell_type": "code",
   "execution_count": 38,
   "metadata": {},
   "outputs": [
    {
     "name": "stdout",
     "output_type": "stream",
     "text": [
      "[[[  7  22  -9]\n",
      "  [ 16  54 -19]]\n",
      "\n",
      " [[ 12  60  46]\n",
      "  [  1   2   4]]]\n",
      "[[ 3  7]\n",
      " [12  1]]\n",
      "[3 7]\n"
     ]
    }
   ],
   "source": [
    "import numpy as np\n",
    "\n",
    "a = tf.constant([\n",
    "    [[1,2],[2,5,]],\n",
    "    [[10,2],[1,0]]\n",
    "])\n",
    "\n",
    "b = tf.constant([\n",
    "    [[3,2,-7],[2,10,-1]],\n",
    "    [[1,2,4],[1,20,3]]\n",
    "])\n",
    "\n",
    "print(np.einsum('bij,bjk -> bik',a,b))\n",
    "print(np.einsum('bij -> bi',a))\n",
    "\n",
    "c = np.array([[1,2],[3,4]])\n",
    "print(np.einsum('ij -> i',c))\n"
   ]
  },
  {
   "cell_type": "code",
   "execution_count": 40,
   "metadata": {},
   "outputs": [
    {
     "data": {
      "text/plain": [
       "(32, 64, 128)"
      ]
     },
     "execution_count": 40,
     "metadata": {},
     "output_type": "execute_result"
    }
   ],
   "source": [
    "# Q = batchsize, s_q, modelsize\n",
    "# K = batchsize, s_k, modelsize\n",
    "\n",
    "Q = np.random.randn(32,64,512) #bqm\n",
    "K = np.random.randn(32,128,512) #bkm\n",
    "\n",
    "np.einsum('bqm,bkm->bqk', Q, K).shape"
   ]
  },
  {
   "cell_type": "code",
   "execution_count": 42,
   "metadata": {},
   "outputs": [
    {
     "data": {
      "text/plain": [
       "(2, 4)"
      ]
     },
     "execution_count": 42,
     "metadata": {},
     "output_type": "execute_result"
    }
   ],
   "source": [
    "A = np.random.randn(2,4,4,2) #bcij\n",
    "B = np.random.randn(2,4,4,1) #bcik\n",
    "\n",
    "np.einsum(\"bcik,bcij -> bc\", A, B).shape"
   ]
  }
 ],
 "metadata": {
  "kernelspec": {
   "display_name": "Python 3",
   "language": "python",
   "name": "python3"
  },
  "language_info": {
   "codemirror_mode": {
    "name": "ipython",
    "version": 3
   },
   "file_extension": ".py",
   "mimetype": "text/x-python",
   "name": "python",
   "nbconvert_exporter": "python",
   "pygments_lexer": "ipython3",
   "version": "3.11.7"
  }
 },
 "nbformat": 4,
 "nbformat_minor": 2
}
