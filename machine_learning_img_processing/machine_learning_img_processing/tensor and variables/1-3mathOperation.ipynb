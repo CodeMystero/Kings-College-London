{
 "cells": [
  {
   "cell_type": "code",
   "execution_count": 1,
   "metadata": {},
   "outputs": [
    {
     "name": "stdout",
     "output_type": "stream",
     "text": [
      "WARNING:tensorflow:From c:\\Users\\seung\\AppData\\Local\\Programs\\Python\\Python311\\Lib\\site-packages\\keras\\src\\losses.py:2976: The name tf.losses.sparse_softmax_cross_entropy is deprecated. Please use tf.compat.v1.losses.sparse_softmax_cross_entropy instead.\n",
      "\n"
     ]
    }
   ],
   "source": [
    "import tensorflow as tf"
   ]
  },
  {
   "cell_type": "code",
   "execution_count": 4,
   "metadata": {},
   "outputs": [
    {
     "name": "stdout",
     "output_type": "stream",
     "text": [
      "tf.Tensor([2.25 3.25], shape=(2,), dtype=float32)\n",
      "tf.Tensor(0.2, shape=(), dtype=float32)\n"
     ]
    }
   ],
   "source": [
    "x_abs = tf.constant([-2.25,3.25])\n",
    "print(tf.abs(x_abs))\n",
    "print(tf.abs(tf.constant(-0.2)))"
   ]
  },
  {
   "cell_type": "code",
   "execution_count": 6,
   "metadata": {},
   "outputs": [
    {
     "data": {
      "text/plain": [
       "<tf.Tensor: shape=(1,), dtype=float64, numpy=array([5.25594901])>"
      ]
     },
     "execution_count": 6,
     "metadata": {},
     "output_type": "execute_result"
    }
   ],
   "source": [
    "x_abs_complex = tf.constant([-2.25 + 4.75j])\n",
    "tf.abs(x_abs_complex)"
   ]
  },
  {
   "cell_type": "code",
   "execution_count": 7,
   "metadata": {},
   "outputs": [
    {
     "data": {
      "text/plain": [
       "<tf.Tensor: shape=(), dtype=float32, numpy=5.255949>"
      ]
     },
     "execution_count": 7,
     "metadata": {},
     "output_type": "execute_result"
    }
   ],
   "source": [
    "tf.sqrt((-2.25)**2+4.75**2)"
   ]
  },
  {
   "cell_type": "code",
   "execution_count": 11,
   "metadata": {},
   "outputs": [
    {
     "name": "stdout",
     "output_type": "stream",
     "text": [
      "tf.Tensor([12 11  9  6 15  8], shape=(6,), dtype=int32)\n",
      "tf.Tensor([-2 -5  3  6 -7  4], shape=(6,), dtype=int32)\n",
      "tf.Tensor([35 24 18  0 44 12], shape=(6,), dtype=int32)\n",
      "tf.Tensor([0.71428571 0.375      2.                inf 0.36363636 3.        ], shape=(6,), dtype=float64)\n",
      "tf.Tensor([0.71428571 0.375      2.         0.         0.36363636 3.        ], shape=(6,), dtype=float64)\n"
     ]
    }
   ],
   "source": [
    "x_1 = tf.constant([5,3,6,6,4,6], dtype = tf.int32)\n",
    "x_2 = tf.constant([7,8,3,0,11,2], dtype = tf.int32)\n",
    "\n",
    "print(tf.add(x_1,x_2))\n",
    "print(tf.subtract(x_1,x_2))\n",
    "print(tf.multiply(x_1,x_2))\n",
    "print(tf.divide(x_1,x_2)) #makes infinity\n",
    "print(tf.math.divide_no_nan(x_1,x_2)) #return 0 if devided by 0\n"
   ]
  },
  {
   "cell_type": "code",
   "execution_count": 14,
   "metadata": {},
   "outputs": [
    {
     "name": "stdout",
     "output_type": "stream",
     "text": [
      "tf.Tensor(\n",
      "[[12 10 13 13 11 13]\n",
      " [ 8  9 10 11 12 13]], shape=(2, 6), dtype=int32)\n",
      "tf.Tensor(\n",
      "[[12 10 13 13 11 13]\n",
      " [ 8  9 10 11 12 13]], shape=(2, 6), dtype=int32)\n"
     ]
    }
   ],
   "source": [
    "#broadcasting\n",
    "x_1 = tf.constant([[5,3,6,6,4,6],[1,2,3,4,5,6]], dtype = tf.int32)\n",
    "x_2 = tf.constant([7], dtype = tf.int32)\n",
    "x_2_stretched = tf.constant([7,7,7,7,7,7], dtype = tf.int32)\n",
    "\n",
    "print(tf.add(x_1,x_2))\n",
    "print(tf.add(x_1,x_2_stretched))"
   ]
  },
  {
   "cell_type": "code",
   "execution_count": 15,
   "metadata": {},
   "outputs": [
    {
     "name": "stdout",
     "output_type": "stream",
     "text": [
      "tf.Tensor(\n",
      "[[25 15 30 30 20 30]\n",
      " [ 5  3  6  6  4  6]\n",
      " [15  9 18 18 12 18]], shape=(3, 6), dtype=int32)\n"
     ]
    }
   ],
   "source": [
    "x_1 = tf.constant([5,3,6,6,4,6], dtype = tf.int32)\n",
    "x_2 = tf.constant([[5],[1],[3]], dtype = tf.int32)\n",
    "\n",
    "print(tf.multiply(x_1,x_2))"
   ]
  },
  {
   "cell_type": "code",
   "execution_count": 20,
   "metadata": {},
   "outputs": [
    {
     "name": "stdout",
     "output_type": "stream",
     "text": [
      "tf.Tensor([5 3 3 0 4 2], shape=(6,), dtype=int32)\n",
      "tf.Tensor([ 7  8  6  6 11 60], shape=(6,), dtype=int32)\n",
      "tf.Tensor(5, shape=(), dtype=int64)\n",
      "tf.Tensor(3, shape=(), dtype=int64)\n"
     ]
    }
   ],
   "source": [
    "x_1 = tf.constant([5,3,6,6,4,60], dtype = tf.int32)\n",
    "x_2 = tf.constant([7,8,3,0,11,2], dtype = tf.int32)\n",
    "print(tf.math.minimum(x_1,x_2))\n",
    "print(tf.math.maximum(x_1,x_2))\n",
    "print(tf.math.argmax(x_1)) # index of maximum value\n",
    "print(tf.math.argmin(x_2)) # index of maximum value"
   ]
  },
  {
   "cell_type": "code",
   "execution_count": 21,
   "metadata": {},
   "outputs": [
    {
     "name": "stdout",
     "output_type": "stream",
     "text": [
      "tf.Tensor([1 1 3], shape=(3,), dtype=int64)\n"
     ]
    }
   ],
   "source": [
    "tensor_two_d = tf.constant([\n",
    "    [1,2,0],\n",
    "    [3,5,-1],\n",
    "    [1,5,6],\n",
    "    [2,3,8]\n",
    "])\n",
    "print(tf.math.argmax(tensor_two_d,0)) # max value of each colunm in 2x2 matrix"
   ]
  },
  {
   "cell_type": "code",
   "execution_count": 22,
   "metadata": {},
   "outputs": [
    {
     "name": "stdout",
     "output_type": "stream",
     "text": [
      "tf.Tensor([False  True False  True False False], shape=(6,), dtype=bool)\n"
     ]
    }
   ],
   "source": [
    "x_1 = tf.constant([5,3,6,6,4,60], dtype = tf.int32)\n",
    "x_2 = tf.constant([7,3,3,6,11,30], dtype = tf.int32)\n",
    "print(tf.math.equal(x_1,x_2))"
   ]
  },
  {
   "cell_type": "code",
   "execution_count": 26,
   "metadata": {},
   "outputs": [
    {
     "name": "stdout",
     "output_type": "stream",
     "text": [
      "tf.Tensor(\n",
      "[[  78125    6561     216       1 4194304      36]\n",
      " [     27       4       1       4     216  823543]], shape=(2, 6), dtype=int32)\n",
      "tf.Tensor(81, shape=(), dtype=int32)\n",
      "tf.Tensor(81, shape=(), dtype=int32)\n"
     ]
    }
   ],
   "source": [
    "x_1 = tf.constant([[5,3,6,6,4,6],[3,2,1,2,6,7]])\n",
    "x_2 = tf.constant([[7,8,3,0,11,2],[3,2,6,2,3,7]])\n",
    "\n",
    "print(tf.pow(x_1,x_2))\n",
    "print(tf.pow(3,4))\n",
    "print(tf.pow(tf.constant(3),tf.constant(4)))"
   ]
  },
  {
   "cell_type": "code",
   "execution_count": 37,
   "metadata": {},
   "outputs": [
    {
     "name": "stdout",
     "output_type": "stream",
     "text": [
      "tf.Tensor(35.0, shape=(), dtype=float32)\n",
      "tf.Tensor([ 7. 15. 13.], shape=(3,), dtype=float32)\n",
      "tf.Tensor(-1.0, shape=(), dtype=float32)\n",
      "tf.Tensor([1.75 3.75 3.25], shape=(3,), dtype=float32)\n",
      "tf.Tensor([[0.8291562 1.299038  3.8324275]], shape=(1, 3), dtype=float32)\n"
     ]
    }
   ],
   "source": [
    "tensor_two_d = tf.constant([\n",
    "    [1,2,0],\n",
    "    [3,5,-1],\n",
    "    [1,5,6],\n",
    "    [2,3,8]\n",
    "], dtype = tf.float32)\n",
    "\n",
    "# Summing up all elements on matrix\n",
    "print(tf.math.reduce_sum(\n",
    "    tensor_two_d, axis=None, keepdims=False, name=None\n",
    ")) \n",
    "\n",
    "# Summing up colunm elements into 1d tensor\n",
    "print(tf.math.reduce_sum(\n",
    "    tensor_two_d, axis=0, keepdims=False, name=None\n",
    ")) \n",
    "\n",
    "# Reducing to the minimum value of the elements\n",
    "print(tf.math.reduce_min(\n",
    "    tensor_two_d, axis=None, keepdims=False, name=None\n",
    "))\n",
    "\n",
    "print(tf.math.reduce_mean(\n",
    "    tensor_two_d, axis=0, keepdims=False, name=None\n",
    "))\n",
    "\n",
    "print(tf.math.reduce_std(\n",
    "    tensor_two_d, axis=0, keepdims=True, name=None\n",
    "))\n"
   ]
  },
  {
   "cell_type": "code",
   "execution_count": 38,
   "metadata": {},
   "outputs": [
    {
     "data": {
      "text/plain": [
       "<tf.Tensor: shape=(4,), dtype=float32, numpy=array([0.5      , 0.7310586, 1.       , 1.       ], dtype=float32)>"
      ]
     },
     "execution_count": 38,
     "metadata": {},
     "output_type": "execute_result"
    }
   ],
   "source": [
    "x = tf.constant([0.0, 1.0, 50.0, 100.0])\n",
    "tf.math.sigmoid(x)"
   ]
  },
  {
   "cell_type": "code",
   "execution_count": 42,
   "metadata": {},
   "outputs": [
    {
     "name": "stdout",
     "output_type": "stream",
     "text": [
      "TopKV2(values=<tf.Tensor: shape=(4, 1), dtype=float32, numpy=\n",
      "array([[2.],\n",
      "       [5.],\n",
      "       [6.],\n",
      "       [7.]], dtype=float32)>, indices=<tf.Tensor: shape=(4, 1), dtype=int32, numpy=\n",
      "array([[1],\n",
      "       [1],\n",
      "       [2],\n",
      "       [0]])>)\n"
     ]
    }
   ],
   "source": [
    "tensor_two_d = tf.constant([\n",
    "    [1,2,0],\n",
    "    [3,5,-1],\n",
    "    [1,5,6],\n",
    "    [7,3,1]\n",
    "], dtype = tf.float32)\n",
    "\n",
    "print(tf.math.top_k(tensor_two_d, k = 1))"
   ]
  }
 ],
 "metadata": {
  "kernelspec": {
   "display_name": "Python 3",
   "language": "python",
   "name": "python3"
  },
  "language_info": {
   "codemirror_mode": {
    "name": "ipython",
    "version": 3
   },
   "file_extension": ".py",
   "mimetype": "text/x-python",
   "name": "python",
   "nbconvert_exporter": "python",
   "pygments_lexer": "ipython3",
   "version": "3.11.7"
  }
 },
 "nbformat": 4,
 "nbformat_minor": 2
}
