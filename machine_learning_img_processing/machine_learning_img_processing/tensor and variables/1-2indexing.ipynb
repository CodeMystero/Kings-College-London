{
 "cells": [
  {
   "cell_type": "code",
   "execution_count": 2,
   "metadata": {},
   "outputs": [
    {
     "name": "stdout",
     "output_type": "stream",
     "text": [
      "WARNING:tensorflow:From c:\\Users\\seung\\AppData\\Local\\Programs\\Python\\Python311\\Lib\\site-packages\\keras\\src\\losses.py:2976: The name tf.losses.sparse_softmax_cross_entropy is deprecated. Please use tf.compat.v1.losses.sparse_softmax_cross_entropy instead.\n",
      "\n"
     ]
    }
   ],
   "source": [
    "import tensorflow as tf"
   ]
  },
  {
   "cell_type": "code",
   "execution_count": 11,
   "metadata": {},
   "outputs": [
    {
     "name": "stdout",
     "output_type": "stream",
     "text": [
      "tf.Tensor([ 3  6  2  4  6 66  7], shape=(7,), dtype=int32)\n",
      "tf.Tensor([3 6 2 4], shape=(4,), dtype=int32)\n",
      "tf.Tensor([ 6  4 66], shape=(3,), dtype=int32)\n",
      "tf.Tensor([3 6 2 4], shape=(4,), dtype=int32)\n",
      "tf.Tensor([ 4  6 66  7], shape=(4,), dtype=int32)\n"
     ]
    }
   ],
   "source": [
    "tensor_indexed = tf.constant([3,6,2,4,6,66,7])\n",
    "print(tensor_indexed)\n",
    "print(tensor_indexed[0:4])\n",
    "print(tensor_indexed[1:6:2]) #slice out\n",
    "print(tensor_indexed[:4])\n",
    "print(tensor_indexed[3:])"
   ]
  },
  {
   "cell_type": "code",
   "execution_count": 4,
   "metadata": {},
   "outputs": [
    {
     "name": "stdout",
     "output_type": "stream",
     "text": [
      "tf.Tensor(\n",
      "[[ 1  2  0]\n",
      " [ 3  5 -1]\n",
      " [ 1  5  6]], shape=(3, 3), dtype=int32)\n",
      "tf.Tensor(\n",
      "[[1 2]\n",
      " [3 5]\n",
      " [1 5]], shape=(3, 2), dtype=int32)\n",
      "tf.Tensor(\n",
      "[[ 2  0]\n",
      " [ 5 -1]], shape=(2, 2), dtype=int32)\n",
      "tf.Tensor([2 5 5 3], shape=(4,), dtype=int32)\n",
      "tf.Tensor([2 5 5 3], shape=(4,), dtype=int32)\n"
     ]
    }
   ],
   "source": [
    "tensor_two_d = tf.constant([\n",
    "    [1,2,0],\n",
    "    [3,5,-1],\n",
    "    [1,5,6],\n",
    "    [2,3,8]\n",
    "])\n",
    "print(tensor_two_d[0:3,:])\n",
    "print(tensor_two_d[0:3,:2])\n",
    "print(tensor_two_d[0:2,1:3])\n",
    "print(tensor_two_d[:,1])\n",
    "print(tensor_two_d[...,1])"
   ]
  },
  {
   "cell_type": "code",
   "execution_count": null,
   "metadata": {},
   "outputs": [],
   "source": []
  }
 ],
 "metadata": {
  "kernelspec": {
   "display_name": "Python 3",
   "language": "python",
   "name": "python3"
  },
  "language_info": {
   "codemirror_mode": {
    "name": "ipython",
    "version": 3
   },
   "file_extension": ".py",
   "mimetype": "text/x-python",
   "name": "python",
   "nbconvert_exporter": "python",
   "pygments_lexer": "ipython3",
   "version": "3.11.7"
  }
 },
 "nbformat": 4,
 "nbformat_minor": 2
}
