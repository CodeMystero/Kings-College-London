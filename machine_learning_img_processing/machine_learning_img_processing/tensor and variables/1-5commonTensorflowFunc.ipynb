{
 "cells": [
  {
   "cell_type": "code",
   "execution_count": 2,
   "metadata": {},
   "outputs": [
    {
     "name": "stdout",
     "output_type": "stream",
     "text": [
      "WARNING:tensorflow:From c:\\Users\\seung\\AppData\\Local\\Programs\\Python\\Python311\\Lib\\site-packages\\keras\\src\\losses.py:2976: The name tf.losses.sparse_softmax_cross_entropy is deprecated. Please use tf.compat.v1.losses.sparse_softmax_cross_entropy instead.\n",
      "\n",
      "(4, 2, 3)\n",
      "(1, 4, 2, 3)\n"
     ]
    }
   ],
   "source": [
    "import tensorflow as tf\n",
    "\n",
    "tensor_three_d = tf.constant([\n",
    "    [[1,2,0],[2,5,-1]],\n",
    "    [[10,2,0],[1,0,2]],\n",
    "    [[5,8,0],[2,7,0]],\n",
    "    [[2,1,9],[4,-3,32]]\n",
    "])\n",
    "print(tensor_three_d.shape)\n",
    "print(tf.expand_dims(tensor_three_d, axis = 0).shape)"
   ]
  },
  {
   "cell_type": "code",
   "execution_count": 11,
   "metadata": {},
   "outputs": [
    {
     "name": "stdout",
     "output_type": "stream",
     "text": [
      "(1, 1, 4)\n",
      "tf.Tensor([[[[2 3 4 5]]]], shape=(1, 1, 1, 4), dtype=int32)\n",
      "tf.Tensor(\n",
      "[[[[2]\n",
      "   [3]\n",
      "   [4]\n",
      "   [5]]]], shape=(1, 1, 4, 1), dtype=int32)\n",
      "tf.Tensor([2 3 4 5], shape=(4,), dtype=int32)\n"
     ]
    }
   ],
   "source": [
    "x = tf.constant([[[2,3,4,5]]])\n",
    "print(x.shape)\n",
    "print(tf.expand_dims(x, axis = 0))\n",
    "print(tf.expand_dims(x, axis = 3))\n",
    "for i in range(2):\n",
    "    x = tf.squeeze(x, axis = 0)\n",
    "print(x)"
   ]
  },
  {
   "cell_type": "code",
   "execution_count": 14,
   "metadata": {},
   "outputs": [
    {
     "name": "stdout",
     "output_type": "stream",
     "text": [
      "(1, 2, 3)\n",
      "tf.Tensor(\n",
      "[[ 1  2  0]\n",
      " [ 2  5 -1]], shape=(2, 3), dtype=int32)\n"
     ]
    }
   ],
   "source": [
    "tensor_three_d = tf.constant([\n",
    "    [[1,2,0],[2,5,-1]]\n",
    "])\n",
    "\n",
    "print(tensor_three_d.shape)\n",
    "print(tf.squeeze(tensor_three_d, axis = 0)) # 1 expected to be squeezed"
   ]
  },
  {
   "cell_type": "code",
   "execution_count": 19,
   "metadata": {},
   "outputs": [
    {
     "name": "stdout",
     "output_type": "stream",
     "text": [
      "(4, 2, 3)\n",
      "(4, 1, 6)\n",
      "(4, 3, 2)\n",
      "(8, 1, 3)\n"
     ]
    }
   ],
   "source": [
    "tensor_three_d = tf.constant([\n",
    "    [[1,2,0],[2,5,-1]],\n",
    "    [[10,2,0],[1,0,2]],\n",
    "    [[5,8,0],[2,7,0]],\n",
    "    [[2,1,9],[4,-3,32]]\n",
    "])\n",
    "\n",
    "print(tensor_three_d.shape)\n",
    "print(tf.reshape(tensor_three_d,[4,1,6]).shape)\n",
    "print(tf.reshape(tensor_three_d,[4,3,2]).shape)\n",
    "print(tf.reshape(tensor_three_d,[8,1,3]).shape)"
   ]
  },
  {
   "cell_type": "code",
   "execution_count": 6,
   "metadata": {},
   "outputs": [
    {
     "name": "stdout",
     "output_type": "stream",
     "text": [
      "(2, 3)\n",
      "(2, 3)\n",
      "tf.Tensor(\n",
      "[[ 1  2  3]\n",
      " [ 4  5  6]\n",
      " [ 7  8  9]\n",
      " [10 11 12]], shape=(4, 3), dtype=int32)\n",
      "tf.Tensor(\n",
      "[[ 1  2  3  7  8  9]\n",
      " [ 4  5  6 10 11 12]], shape=(2, 6), dtype=int32)\n"
     ]
    }
   ],
   "source": [
    "t1 = [[1, 2, 3], [4, 5, 6]]\n",
    "t2 = [[7, 8, 9], [10, 11, 12]]\n",
    "\n",
    "print(tf.constant(t1).shape)\n",
    "print(tf.constant(t2).shape)\n",
    "print(tf.concat([t1, t2], axis = 0))\n",
    "print(tf.concat([t1, t2], axis = 1))"
   ]
  },
  {
   "cell_type": "code",
   "execution_count": 16,
   "metadata": {},
   "outputs": [
    {
     "name": "stdout",
     "output_type": "stream",
     "text": [
      "(2, 3)\n",
      "(2, 3)\n"
     ]
    },
    {
     "data": {
      "text/plain": [
       "<tf.Tensor: shape=(2, 2, 3), dtype=int32, numpy=\n",
       "array([[[ 1,  2,  3],\n",
       "        [ 7,  8,  9]],\n",
       "\n",
       "       [[ 4,  5,  6],\n",
       "        [10, 11, 12]]])>"
      ]
     },
     "execution_count": 16,
     "metadata": {},
     "output_type": "execute_result"
    }
   ],
   "source": [
    "t1 = [[1, 2, 3], [4, 5, 6]]\n",
    "t2 = [[7, 8, 9], [10, 11, 12]]\n",
    "\n",
    "print(tf.constant(t1).shape)\n",
    "print(tf.constant(t2).shape)\n",
    "tf.stack([t1, t2],axis=0)"
   ]
  },
  {
   "cell_type": "code",
   "execution_count": 25,
   "metadata": {},
   "outputs": [
    {
     "name": "stdout",
     "output_type": "stream",
     "text": [
      "tf.Tensor(\n",
      "[[0 0 0 0 0]\n",
      " [0 2 3 4 0]\n",
      " [0 6 7 8 0]\n",
      " [0 0 0 0 0]], shape=(4, 5), dtype=int32)\n",
      "tf.Tensor(\n",
      "[[7 6 7 8 7]\n",
      " [3 2 3 4 3]\n",
      " [7 6 7 8 7]\n",
      " [3 2 3 4 3]], shape=(4, 5), dtype=int32)\n",
      "tf.Tensor(\n",
      "[[2 2 3 4 4]\n",
      " [2 2 3 4 4]\n",
      " [6 6 7 8 8]\n",
      " [6 6 7 8 8]], shape=(4, 5), dtype=int32)\n"
     ]
    }
   ],
   "source": [
    "t = tf.constant([[2, 3, 4], [6, 7, 8]])\n",
    "paddings = tf.constant([[1, 1,], [1, 1]])\n",
    "# 'constant_values' is 0.\n",
    "# rank of 't' is 2.\n",
    "print(tf.pad(t, paddings, \"CONSTANT\"))  # [[0, 0, 0, 0, 0, 0, 0],\n",
    "                                        #  [0, 0, 1, 2, 3, 0, 0],\n",
    "                                        #  [0, 0, 4, 5, 6, 0, 0],\n",
    "                                        #  [0, 0, 0, 0, 0, 0, 0]]\n",
    "\n",
    "print(tf.pad(t, paddings, \"REFLECT\"))   # [[6, 5, 4, 5, 6, 5, 4],\n",
    "                                        #  [3, 2, 1, 2, 3, 2, 1],\n",
    "                                        #  [6, 5, 4, 5, 6, 5, 4],\n",
    "                                        #  [3, 2, 1, 2, 3, 2, 1]]\n",
    "\n",
    "print(tf.pad(t, paddings, \"SYMMETRIC\")) # [[2, 1, 1, 2, 3, 3, 2],\n",
    "                                        #  [2, 1, 1, 2, 3, 3, 2],\n",
    "                                        #  [5, 4, 4, 5, 6, 6, 5],\n",
    "                                        #  [5, 4, 4, 5, 6, 6, 5]]"
   ]
  },
  {
   "cell_type": "code",
   "execution_count": 27,
   "metadata": {},
   "outputs": [
    {
     "data": {
      "text/plain": [
       "<tf.Tensor: shape=(3,), dtype=string, numpy=array([b'p1', b'p2', b'p3'], dtype=object)>"
      ]
     },
     "execution_count": 27,
     "metadata": {},
     "output_type": "execute_result"
    }
   ],
   "source": [
    "params = tf.constant(['p0', 'p1', 'p2', 'p3', 'p4', 'p5'])\n",
    "params[3].numpy()\n",
    "\n",
    "tf.gather(\n",
    "    params, [1,2,3], validate_indices=None, axis=None, batch_dims=0, name=None\n",
    ")\n"
   ]
  },
  {
   "cell_type": "code",
   "execution_count": 29,
   "metadata": {},
   "outputs": [
    {
     "name": "stdout",
     "output_type": "stream",
     "text": [
      "[[30. 31. 32.]\n",
      " [10. 11. 12.]]\n",
      "[[ 2.  1.]\n",
      " [12. 11.]\n",
      " [22. 21.]\n",
      " [32. 31.]]\n"
     ]
    }
   ],
   "source": [
    "params = tf.constant([[0, 1.0, 2.0],\n",
    "                      [10.0, 11.0, 12.0],\n",
    "                      [20.0, 21.0, 22.0],\n",
    "                      [30.0, 31.0, 32.0]])\n",
    "print(tf.gather(params, indices=[3,1]).numpy())\n",
    "\n",
    "\n",
    "print(tf.gather(params, indices=[2,1], axis=1).numpy())\n"
   ]
  },
  {
   "cell_type": "code",
   "execution_count": 30,
   "metadata": {},
   "outputs": [
    {
     "data": {
      "text/plain": [
       "array([[b'd', b'e', b'f'],\n",
       "       [b'a', b'b', b'c']], dtype=object)"
      ]
     },
     "execution_count": 30,
     "metadata": {},
     "output_type": "execute_result"
    }
   ],
   "source": [
    "tf.gather_nd(\n",
    "    indices = [[1],\n",
    "               [0]],\n",
    "    params = [['a', 'b', 'c'],\n",
    "              ['d', 'e', 'f']]).numpy()\n",
    "\n"
   ]
  },
  {
   "cell_type": "code",
   "execution_count": 31,
   "metadata": {},
   "outputs": [
    {
     "data": {
      "text/plain": [
       "array([[b'c0', b'd0'],\n",
       "       [b'a1', b'b1']], dtype=object)"
      ]
     },
     "execution_count": 31,
     "metadata": {},
     "output_type": "execute_result"
    }
   ],
   "source": [
    "tf.gather_nd(\n",
    "    indices = [[0, 1], [1, 0]],\n",
    "    params = [[['a0', 'b0'], ['c0', 'd0']],\n",
    "              [['a1', 'b1'], ['c1', 'd1']]]).numpy()"
   ]
  },
  {
   "cell_type": "code",
   "execution_count": null,
   "metadata": {},
   "outputs": [],
   "source": []
  }
 ],
 "metadata": {
  "kernelspec": {
   "display_name": "Python 3",
   "language": "python",
   "name": "python3"
  },
  "language_info": {
   "codemirror_mode": {
    "name": "ipython",
    "version": 3
   },
   "file_extension": ".py",
   "mimetype": "text/x-python",
   "name": "python",
   "nbconvert_exporter": "python",
   "pygments_lexer": "ipython3",
   "version": "3.11.7"
  }
 },
 "nbformat": 4,
 "nbformat_minor": 2
}
