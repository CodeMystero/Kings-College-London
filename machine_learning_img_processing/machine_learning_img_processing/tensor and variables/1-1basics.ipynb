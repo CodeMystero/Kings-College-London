{
 "cells": [
  {
   "cell_type": "code",
   "execution_count": 18,
   "metadata": {},
   "outputs": [
    {
     "name": "stdout",
     "output_type": "stream",
     "text": [
      "tf.Tensor(4, shape=(), dtype=int32)\n",
      "tf.Tensor([ 2.  0. -3.  8. 90.], shape=(5,), dtype=float32)\n"
     ]
    }
   ],
   "source": [
    "import tensorflow as tf\n",
    "\n",
    "tensor_zero_d = tf.constant(4)\n",
    "print(tensor_zero_d)\n",
    "\n",
    "tensor_one_d = tf.constant([2,0,-3,8,90.], dtype = tf.float32)\n",
    "print(tensor_one_d)\n"
   ]
  },
  {
   "cell_type": "code",
   "execution_count": 10,
   "metadata": {},
   "outputs": [
    {
     "name": "stdout",
     "output_type": "stream",
     "text": [
      "tf.Tensor(\n",
      "[[ 1  2  0]\n",
      " [ 3  5 -1]\n",
      " [ 1  5  6]\n",
      " [ 2  3  8]], shape=(4, 3), dtype=int32)\n"
     ]
    }
   ],
   "source": [
    "tensor_two_d = tf.constant([\n",
    "    [1,2,0],\n",
    "    [3,5,-1],\n",
    "    [1,5,6],\n",
    "    [2,3,8]\n",
    "])\n",
    "print(tensor_two_d)"
   ]
  },
  {
   "cell_type": "code",
   "execution_count": 13,
   "metadata": {},
   "outputs": [
    {
     "name": "stdout",
     "output_type": "stream",
     "text": [
      "tf.Tensor(\n",
      "[[[ 1  2  0]\n",
      "  [ 2  5 -1]]\n",
      "\n",
      " [[10  2  0]\n",
      "  [ 1  0  2]]\n",
      "\n",
      " [[ 5  8  0]\n",
      "  [ 2  7  0]]\n",
      "\n",
      " [[ 2  1  9]\n",
      "  [ 4 -3 32]]], shape=(4, 2, 3), dtype=int32)\n"
     ]
    }
   ],
   "source": [
    "tensor_three_d = tf.constant([\n",
    "    [[1,2,0],[2,5,-1]],\n",
    "    [[10,2,0],[1,0,2]],\n",
    "    [[5,8,0],[2,7,0]],\n",
    "    [[2,1,9],[4,-3,32]]\n",
    "])\n",
    "print(tensor_three_d)"
   ]
  },
  {
   "cell_type": "code",
   "execution_count": 17,
   "metadata": {},
   "outputs": [
    {
     "name": "stdout",
     "output_type": "stream",
     "text": [
      "(3, 4, 2, 3)\n",
      "4\n"
     ]
    }
   ],
   "source": [
    "tensor_four_d = tf.constant([\n",
    "    [\n",
    "        [[8,2,5],[2,3,3]],\n",
    "        [[3,2,4],[5,8,3]],\n",
    "        [[0,2,5],[0,4,3]],\n",
    "        [[4,5,3],[3,1,1]]\n",
    "    ],\n",
    "    [\n",
    "        [[2,1,9],[4,-3,32]],\n",
    "        [[5,8,0],[2,7,0]],\n",
    "        [[10,2,0],[1,0,2]],\n",
    "        [[1,2,0],[3,5,-1]]\n",
    "    ],\n",
    "    [\n",
    "        [[3,8,7],[2,3,2]],\n",
    "        [[0,5,1],[1,7,0]],\n",
    "        [[0,2,0],[1,10,0]],\n",
    "        [[0,2,5],[5,3,1]]\n",
    "    ],\n",
    "])\n",
    "print(tensor_four_d.shape)\n",
    "print(tensor_four_d.ndim)"
   ]
  },
  {
   "cell_type": "code",
   "execution_count": 19,
   "metadata": {},
   "outputs": [
    {
     "name": "stdout",
     "output_type": "stream",
     "text": [
      "tf.Tensor([ True False  True  True  True], shape=(5,), dtype=bool)\n"
     ]
    }
   ],
   "source": [
    "#casting tf.constant > 0 becomes false otherwise becomes true\n",
    "\n",
    "casted_tensor_one_d = tf.cast(tensor_one_d,dtype=tf.bool)\n",
    "print(casted_tensor_one_d)\n"
   ]
  },
  {
   "cell_type": "code",
   "execution_count": 20,
   "metadata": {},
   "outputs": [
    {
     "name": "stdout",
     "output_type": "stream",
     "text": [
      "[1 2 4]\n"
     ]
    }
   ],
   "source": [
    "import numpy as np\n",
    "\n",
    "np_array = np.array([1,2,4])\n",
    "print(np_array)"
   ]
  },
  {
   "cell_type": "code",
   "execution_count": 21,
   "metadata": {},
   "outputs": [
    {
     "name": "stdout",
     "output_type": "stream",
     "text": [
      "tf.Tensor([1 2 4], shape=(3,), dtype=int32)\n"
     ]
    }
   ],
   "source": [
    "# convert numpy to tensor\n",
    "converted_tensor = tf.convert_to_tensor(np_array)\n",
    "print(converted_tensor)"
   ]
  },
  {
   "cell_type": "code",
   "execution_count": 24,
   "metadata": {},
   "outputs": [
    {
     "name": "stdout",
     "output_type": "stream",
     "text": [
      "tf.Tensor(\n",
      "[[1. 0. 0.]\n",
      " [0. 1. 0.]\n",
      " [0. 0. 1.]], shape=(3, 3), dtype=float32)\n",
      "tf.Tensor(\n",
      "[[3. 0. 0.]\n",
      " [0. 3. 0.]\n",
      " [0. 0. 3.]], shape=(3, 3), dtype=float32)\n"
     ]
    }
   ],
   "source": [
    "#identity matrix\n",
    "eye_tensor = tf.eye(\n",
    "    num_rows = 3,\n",
    "    num_columns=None,\n",
    "    batch_shape=None,\n",
    "    dtype=tf.dtypes.float32,\n",
    "    name=None\n",
    ")\n",
    "\n",
    "print(eye_tensor)\n",
    "print(3*eye_tensor)"
   ]
  },
  {
   "cell_type": "code",
   "execution_count": 30,
   "metadata": {},
   "outputs": [
    {
     "name": "stdout",
     "output_type": "stream",
     "text": [
      "tf.Tensor(\n",
      "[[[[ True False False]\n",
      "   [False  True False]\n",
      "   [False False  True]]\n",
      "\n",
      "  [[ True False False]\n",
      "   [False  True False]\n",
      "   [False False  True]]]\n",
      "\n",
      "\n",
      " [[[ True False False]\n",
      "   [False  True False]\n",
      "   [False False  True]]\n",
      "\n",
      "  [[ True False False]\n",
      "   [False  True False]\n",
      "   [False False  True]]]], shape=(2, 2, 3, 3), dtype=bool)\n"
     ]
    }
   ],
   "source": [
    "eye_tensor = tf.eye(\n",
    "    num_rows = 3,\n",
    "    num_columns=None,\n",
    "    batch_shape=[2,2],\n",
    "    dtype=tf.dtypes.bool,\n",
    "    name=None\n",
    ")\n",
    "print(eye_tensor)"
   ]
  },
  {
   "cell_type": "code",
   "execution_count": 33,
   "metadata": {},
   "outputs": [
    {
     "name": "stdout",
     "output_type": "stream",
     "text": [
      "tf.Tensor(\n",
      "[[9 9 9]\n",
      " [9 9 9]\n",
      " [9 9 9]], shape=(3, 3), dtype=int32)\n"
     ]
    }
   ],
   "source": [
    "fill_tensor = tf.fill([3, 3], 9, name = None)\n",
    "print(fill_tensor)"
   ]
  },
  {
   "cell_type": "code",
   "execution_count": 34,
   "metadata": {},
   "outputs": [
    {
     "name": "stdout",
     "output_type": "stream",
     "text": [
      "tf.Tensor(\n",
      "[[1. 1.]\n",
      " [1. 1.]], shape=(2, 2), dtype=float32)\n"
     ]
    }
   ],
   "source": [
    "ones_tensor = tf.ones(\n",
    "    shape = [2,2], \n",
    "    dtype=tf.dtypes.float32,\n",
    "    name=None,\n",
    "    layout=None\n",
    ")\n",
    "print(ones_tensor)"
   ]
  },
  {
   "cell_type": "code",
   "execution_count": 37,
   "metadata": {},
   "outputs": [
    {
     "name": "stdout",
     "output_type": "stream",
     "text": [
      "tf.Tensor(\n",
      "[[1 1 1]\n",
      " [1 1 1]\n",
      " [1 1 1]\n",
      " [1 1 1]], shape=(4, 3), dtype=int32)\n"
     ]
    }
   ],
   "source": [
    "ones_like_tensor = tf.ones_like(\n",
    "    tensor_two_d\n",
    ")\n",
    "print(ones_like_tensor)"
   ]
  },
  {
   "cell_type": "code",
   "execution_count": 39,
   "metadata": {},
   "outputs": [
    {
     "name": "stdout",
     "output_type": "stream",
     "text": [
      "tf.Tensor(\n",
      "[[0 0 0]\n",
      " [0 0 0]\n",
      " [0 0 0]\n",
      " [0 0 0]], shape=(4, 3), dtype=int32)\n"
     ]
    }
   ],
   "source": [
    "zeros_like_tensor = tf.zeros_like(\n",
    "    tensor_two_d\n",
    ")\n",
    "print(zeros_like_tensor)"
   ]
  },
  {
   "cell_type": "code",
   "execution_count": 53,
   "metadata": {},
   "outputs": [
    {
     "name": "stdout",
     "output_type": "stream",
     "text": [
      "tf.Tensor(\n",
      "[[ 93.91867  113.30861   97.43258 ]\n",
      " [ 92.62877  100.942764 108.51121 ]\n",
      " [102.15723   98.34765   97.139244]], shape=(3, 3), dtype=float32)\n"
     ]
    }
   ],
   "source": [
    "random_tensor = tf.random.normal(\n",
    "    shape =[3,3],\n",
    "    mean=100.0,\n",
    "    stddev=10.0,\n",
    "    dtype=tf.dtypes.float32,\n",
    "    seed=None,\n",
    "    name=None\n",
    ")\n",
    "print(random_tensor)"
   ]
  }
 ],
 "metadata": {
  "kernelspec": {
   "display_name": "base",
   "language": "python",
   "name": "python3"
  },
  "language_info": {
   "codemirror_mode": {
    "name": "ipython",
    "version": 3
   },
   "file_extension": ".py",
   "mimetype": "text/x-python",
   "name": "python",
   "nbconvert_exporter": "python",
   "pygments_lexer": "ipython3",
   "version": "3.11.7"
  }
 },
 "nbformat": 4,
 "nbformat_minor": 2
}
